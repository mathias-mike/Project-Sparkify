{
 "cells": [
  {
   "cell_type": "markdown",
   "id": "fc87f983",
   "metadata": {},
   "source": [
    "# Sparkify Control Point"
   ]
  },
  {
   "cell_type": "code",
   "execution_count": 1,
   "id": "a8b13a57",
   "metadata": {},
   "outputs": [],
   "source": [
    "# First things first, we have to create a redshift cluster for our project on AWS\n",
    "# Here, we'd be using IaC to proceed with the processes\n",
    "\n",
    "# importing boto3, AWS python SDK\n",
    "import boto3\n",
    "from botocore.exceptions import ClientError\n",
    "\n",
    "import configparser\n",
    "import json\n",
    "import pandas as pd"
   ]
  },
  {
   "cell_type": "markdown",
   "id": "90a77635",
   "metadata": {},
   "source": [
    "\n"
   ]
  },
  {
   "cell_type": "markdown",
   "id": "75acf0c0",
   "metadata": {},
   "source": [
    "## Configuration"
   ]
  },
  {
   "cell_type": "code",
   "execution_count": 2,
   "id": "2217cd0c",
   "metadata": {},
   "outputs": [],
   "source": [
    "# Extracting config variables \n",
    "config = configparser.ConfigParser()\n",
    "config.read_file(open('dwh.cfg'))\n",
    "\n",
    "KEY = config.get('USER', 'KEY')\n",
    "SECRET = config.get('USER', 'SECRET')"
   ]
  },
  {
   "cell_type": "code",
   "execution_count": 3,
   "id": "fea66cb6",
   "metadata": {},
   "outputs": [
    {
     "data": {
      "text/html": [
       "<div>\n",
       "<style scoped>\n",
       "    .dataframe tbody tr th:only-of-type {\n",
       "        vertical-align: middle;\n",
       "    }\n",
       "\n",
       "    .dataframe tbody tr th {\n",
       "        vertical-align: top;\n",
       "    }\n",
       "\n",
       "    .dataframe thead th {\n",
       "        text-align: right;\n",
       "    }\n",
       "</style>\n",
       "<table border=\"1\" class=\"dataframe\">\n",
       "  <thead>\n",
       "    <tr style=\"text-align: right;\">\n",
       "      <th></th>\n",
       "      <th>keys</th>\n",
       "      <th>values</th>\n",
       "    </tr>\n",
       "  </thead>\n",
       "  <tbody>\n",
       "    <tr>\n",
       "      <th>0</th>\n",
       "      <td>DWH_ROLE_NAME</td>\n",
       "      <td>redshift_s3_readonly</td>\n",
       "    </tr>\n",
       "    <tr>\n",
       "      <th>1</th>\n",
       "      <td>DWH_DB_NAME</td>\n",
       "      <td>sparkifydb</td>\n",
       "    </tr>\n",
       "    <tr>\n",
       "      <th>2</th>\n",
       "      <td>DWH_CLUSTER_ID</td>\n",
       "      <td>sparkify-cluster</td>\n",
       "    </tr>\n",
       "    <tr>\n",
       "      <th>3</th>\n",
       "      <td>DWH_NODE_TYPE</td>\n",
       "      <td>dc2.large</td>\n",
       "    </tr>\n",
       "    <tr>\n",
       "      <th>4</th>\n",
       "      <td>DWH_NUMBER_0F_NODES</td>\n",
       "      <td>4</td>\n",
       "    </tr>\n",
       "    <tr>\n",
       "      <th>5</th>\n",
       "      <td>DWH_PORT</td>\n",
       "      <td>5439</td>\n",
       "    </tr>\n",
       "  </tbody>\n",
       "</table>\n",
       "</div>"
      ],
      "text/plain": [
       "                  keys                values\n",
       "0        DWH_ROLE_NAME  redshift_s3_readonly\n",
       "1          DWH_DB_NAME            sparkifydb\n",
       "2       DWH_CLUSTER_ID      sparkify-cluster\n",
       "3        DWH_NODE_TYPE             dc2.large\n",
       "4  DWH_NUMBER_0F_NODES                     4\n",
       "5             DWH_PORT                  5439"
      ]
     },
     "execution_count": 3,
     "metadata": {},
     "output_type": "execute_result"
    }
   ],
   "source": [
    "DWH_ROLE_NAME = config.get('DWH', 'DWH_ROLE_NAME')\n",
    "DWH_DB_NAME = config.get('DWH', 'DWH_DB_NAME')\n",
    "DWH_CLUSTER_ID = config.get('DWH', 'DWH_CLUSTER_ID')\n",
    "DWH_NODE_TYPE = config.get('DWH', 'DWH_NODE_TYPE')\n",
    "DWH_USER_NAME = config.get('DWH', 'DWH_USER_NAME')\n",
    "DWH_USER_PASSWORD = config.get('DWH', 'DWH_USER_PASSWORD')\n",
    "DWH_NUMBER_0F_NODES = int(config.get('DWH', 'DWH_NUMBER_0F_NODES'))\n",
    "DWH_PORT = int(config.get('DWH', 'DWH_PORT'))\n",
    "\n",
    "variables = pd.DataFrame({\n",
    "    'keys':['DWH_ROLE_NAME', 'DWH_DB_NAME', 'DWH_CLUSTER_ID', 'DWH_NODE_TYPE', 'DWH_NUMBER_0F_NODES', 'DWH_PORT'], \n",
    "    'values':[DWH_ROLE_NAME, DWH_DB_NAME, DWH_CLUSTER_ID, DWH_NODE_TYPE, DWH_NUMBER_0F_NODES, DWH_PORT]\n",
    "})\n",
    "\n",
    "variables"
   ]
  },
  {
   "cell_type": "markdown",
   "id": "6432d2b6",
   "metadata": {},
   "source": [
    "\n"
   ]
  },
  {
   "cell_type": "markdown",
   "id": "1305f4c3",
   "metadata": {},
   "source": [
    "\n"
   ]
  },
  {
   "cell_type": "markdown",
   "id": "85dc222e",
   "metadata": {},
   "source": [
    "### Create IAM role for Redshift cluster\n",
    "This role will grant redshift AmazonS3ReadOnlyAccess"
   ]
  },
  {
   "cell_type": "code",
   "execution_count": 4,
   "id": "8b331fd3",
   "metadata": {},
   "outputs": [
    {
     "name": "stdout",
     "output_type": "stream",
     "text": [
      "Creating IAM role for Redshift cluster...\n",
      "Role gotten\n"
     ]
    }
   ],
   "source": [
    "# Instantiating IAM client\n",
    "iam = boto3.client('iam', region_name='us-east-2', aws_access_key_id=KEY, aws_secret_access_key=SECRET)\n",
    "role_arn = ''\n",
    "\n",
    "try:\n",
    "    print('Creating IAM role for Redshift cluster...')\n",
    "    iam_role = iam.create_role(\n",
    "        RoleName=DWH_ROLE_NAME,\n",
    "        AssumeRolePolicyDocument=json.dumps({\n",
    "            'Statement': [{\n",
    "                'Action': 'sts:AssumeRole',\n",
    "                'Effect': 'Allow',\n",
    "                'Principal': {'Service': 'redshift.amazonaws.com'}\n",
    "            }],\n",
    "            'Version': '2012-10-17'\n",
    "        }),\n",
    "        Description='Allows Redshift cluster to call AWS services on you behalf',\n",
    "    )\n",
    "    print('Role creation successful!')\n",
    "    \n",
    "    \n",
    "    iam.attach_role_policy(\n",
    "        RoleName=DWH_ROLE_NAME,\n",
    "        PolicyArn='arn:aws:iam::aws:policy/AmazonS3ReadOnlyAccess'\n",
    "    )['ResponseMetadata']['HTTPStatusCode']\n",
    "    \n",
    "    print('Role policy attached successfully!')\n",
    "except Exception as e:\n",
    "    if e.response['Error']['Code'] == 'EntityAlreadyExists':\n",
    "        iam_role = iam.get_role(RoleName=DWH_ROLE_NAME)\n",
    "    else:\n",
    "        print(e)\n",
    "finally:\n",
    "    role_arn = iam_role['Role']['Arn']\n",
    "    print('Role gotten')"
   ]
  },
  {
   "cell_type": "markdown",
   "id": "865f8ecc",
   "metadata": {},
   "source": [
    "\n"
   ]
  },
  {
   "cell_type": "markdown",
   "id": "ae115fdf",
   "metadata": {},
   "source": [
    "\n"
   ]
  },
  {
   "cell_type": "markdown",
   "id": "757ba32f",
   "metadata": {},
   "source": [
    "### Build the Redshift cluster"
   ]
  },
  {
   "cell_type": "code",
   "execution_count": 4,
   "id": "48c8ca09",
   "metadata": {
    "scrolled": true
   },
   "outputs": [],
   "source": [
    "# Instantiating redshift client\n",
    "redshift = boto3.client('redshift', region_name='us-east-2', aws_access_key_id=KEY, aws_secret_access_key=SECRET)\n",
    "\n",
    "try:\n",
    "    print('Creating Redshift cluster...')\n",
    "    redshift_cluster = redshift.create_cluster(\n",
    "        DBName=DWH_DB_NAME,\n",
    "        ClusterIdentifier=DWH_CLUSTER_ID,\n",
    "        NodeType=DWH_NODE_TYPE,\n",
    "        MasterUsername=DWH_USER_NAME,\n",
    "        MasterUserPassword=DWH_USER_PASSWORD,\n",
    "        NumberOfNodes=DWH_NUMBER_0F_NODES,\n",
    "        IamRoles=[\n",
    "            role_arn,\n",
    "        ]\n",
    "    )\n",
    "    print('Redshift cluster creation successful!')\n",
    "except Exception as e:\n",
    "    print(e)"
   ]
  },
  {
   "cell_type": "code",
   "execution_count": 15,
   "id": "d9e6c0f8",
   "metadata": {
    "scrolled": true
   },
   "outputs": [],
   "source": [
    "# Checking cluster availability status\n",
    "cluster_props = redshift.describe_clusters(ClusterIdentifier=DWH_CLUSTER_ID)['Clusters'][0]\n",
    "cluster_props['ClusterAvailabilityStatus'], cluster_props['ClusterStatus']"
   ]
  },
  {
   "cell_type": "code",
   "execution_count": 15,
   "id": "18218b1e",
   "metadata": {},
   "outputs": [],
   "source": [
    "# Obtaining cluster endpoint\n",
    "DWH_ENDPOINT = cluster_props['Endpoint']['Address']\n",
    "DWH_PORT = int(cluster_props['Endpoint']['Port'])\n",
    "# print('Endpoint: {}\\nPort: {}'.format(DWH_ENDPOINT, DWH_PORT))"
   ]
  },
  {
   "cell_type": "code",
   "execution_count": 11,
   "id": "736a6bc1",
   "metadata": {},
   "outputs": [],
   "source": [
    "# cluster_vars = pd.DataFrame({\n",
    "#     'keys':['ClusterIdentifier', 'NodeType', 'ClusterStatus', 'Endpoint:Address', 'Endpoint:Port', 'IamRole', 'Vpc', 'NumberOfNodes'], \n",
    "#     'values':[cluster_props['ClusterIdentifier'], cluster_props['NodeType'], cluster_props['ClusterStatus'], \n",
    "#               cluster_props['Endpoint']['Address'], cluster_props['Endpoint']['Port'], cluster_props['IamRoles'][0]['IamRoleArn'],\n",
    "#               cluster_props['VpcId'], cluster_props['NumberOfNodes']]\n",
    "# })\n",
    "\n",
    "# cluster_vars"
   ]
  },
  {
   "cell_type": "markdown",
   "id": "227f5835",
   "metadata": {},
   "source": [
    "\n"
   ]
  },
  {
   "cell_type": "markdown",
   "id": "bd3d2491",
   "metadata": {},
   "source": [
    "\n"
   ]
  },
  {
   "cell_type": "markdown",
   "id": "db3e86a5",
   "metadata": {},
   "source": [
    "### Open Incomming TCP port to access the cluster endpoint"
   ]
  },
  {
   "cell_type": "code",
   "execution_count": 12,
   "id": "869e5870",
   "metadata": {},
   "outputs": [],
   "source": [
    "# get an ec2 resourse\n",
    "ec2 = boto3.resource('ec2', region_name='us-east-2', aws_access_key_id=KEY, aws_secret_access_key=SECRET)"
   ]
  },
  {
   "cell_type": "code",
   "execution_count": 12,
   "id": "cc90c575",
   "metadata": {},
   "outputs": [],
   "source": [
    "try: \n",
    "    vpc = ec2.Vpc(id=cluster_props['VpcId'])\n",
    "    default_sg = list(vpc.security_groups.all())[0]\n",
    "    print(default_sg)\n",
    "    \n",
    "    default_sg.authorize_ingress(\n",
    "        GroupName=default_sg.group_name,\n",
    "        CidrIp='0.0.0.0/0',\n",
    "        IpProtocol='TCP',\n",
    "        FromPort=DWH_PORT,\n",
    "        ToPort=DWH_PORT\n",
    "    )\n",
    "except Exception as e:\n",
    "    print(e)"
   ]
  },
  {
   "cell_type": "markdown",
   "id": "b664d349",
   "metadata": {},
   "source": [
    "\n"
   ]
  },
  {
   "cell_type": "markdown",
   "id": "0260e7d8",
   "metadata": {},
   "source": [
    "\n"
   ]
  },
  {
   "cell_type": "markdown",
   "id": "113e5c96",
   "metadata": {},
   "source": [
    "## ETL"
   ]
  },
  {
   "cell_type": "code",
   "execution_count": null,
   "id": "61cf480c",
   "metadata": {},
   "outputs": [],
   "source": [
    "# %%sql\n",
    "# postgresql://{username}:{userpassword}@{host}:{port}/{database}"
   ]
  },
  {
   "cell_type": "code",
   "execution_count": null,
   "id": "800feafc",
   "metadata": {},
   "outputs": [],
   "source": []
  },
  {
   "cell_type": "code",
   "execution_count": null,
   "id": "70dc0c9f",
   "metadata": {},
   "outputs": [],
   "source": []
  },
  {
   "cell_type": "code",
   "execution_count": null,
   "id": "e383042b",
   "metadata": {},
   "outputs": [],
   "source": []
  },
  {
   "cell_type": "code",
   "execution_count": 38,
   "id": "6ef753a6",
   "metadata": {},
   "outputs": [],
   "source": [
    "s3 = boto3.resource('s3', aws_access_key_id=KEY, aws_secret_access_key=SECRET)\n",
    "u_bucker = s3.Bucket('udacity-dend')"
   ]
  },
  {
   "cell_type": "code",
   "execution_count": 39,
   "id": "b20db57e",
   "metadata": {},
   "outputs": [],
   "source": [
    "count = 0\n",
    "total_size = 0\n",
    "for obj in u_bucker.objects.filter(Prefix='song-data'):\n",
    "    count += 1\n",
    "    total_size += obj.size"
   ]
  },
  {
   "cell_type": "code",
   "execution_count": 40,
   "id": "3aa89735",
   "metadata": {},
   "outputs": [
    {
     "data": {
      "text/plain": [
       "385253"
      ]
     },
     "execution_count": 40,
     "metadata": {},
     "output_type": "execute_result"
    }
   ],
   "source": [
    "count"
   ]
  },
  {
   "cell_type": "code",
   "execution_count": 41,
   "id": "2c592c41",
   "metadata": {},
   "outputs": [
    {
     "data": {
      "text/plain": [
       "103473867"
      ]
     },
     "execution_count": 41,
     "metadata": {},
     "output_type": "execute_result"
    }
   ],
   "source": [
    "total_size"
   ]
  },
  {
   "cell_type": "code",
   "execution_count": null,
   "id": "a98dbe01",
   "metadata": {},
   "outputs": [],
   "source": []
  },
  {
   "cell_type": "markdown",
   "id": "4c059d74",
   "metadata": {},
   "source": [
    "\n"
   ]
  },
  {
   "cell_type": "markdown",
   "id": "65be0256",
   "metadata": {},
   "source": [
    "\n"
   ]
  },
  {
   "cell_type": "markdown",
   "id": "4d24134b",
   "metadata": {},
   "source": [
    "## Cleaning up"
   ]
  },
  {
   "cell_type": "code",
   "execution_count": 6,
   "id": "4d939f36",
   "metadata": {},
   "outputs": [],
   "source": [
    "# response = redshift.delete_cluster(ClusterIdentifier=DWH_CLUSTER_ID, SkipFinalClusterSnapshot=True)\n",
    "# response"
   ]
  },
  {
   "cell_type": "code",
   "execution_count": null,
   "id": "d064fc61",
   "metadata": {},
   "outputs": [],
   "source": []
  },
  {
   "cell_type": "code",
   "execution_count": null,
   "id": "5ce00abc",
   "metadata": {},
   "outputs": [],
   "source": [
    "# iam.detach_role_policy(RoleName=DWH_ROLE_NAME, PolicyArn=\"arn:aws:iam::aws:policy/AmazonS3ReadOnlyAccess\")\n",
    "# iam.delete_role(RoleName=DWH_ROLE_NAME)"
   ]
  },
  {
   "cell_type": "code",
   "execution_count": null,
   "id": "6444c6cb",
   "metadata": {},
   "outputs": [],
   "source": []
  }
 ],
 "metadata": {
  "kernelspec": {
   "display_name": "Python 3 (ipykernel)",
   "language": "python",
   "name": "python3"
  },
  "language_info": {
   "codemirror_mode": {
    "name": "ipython",
    "version": 3
   },
   "file_extension": ".py",
   "mimetype": "text/x-python",
   "name": "python",
   "nbconvert_exporter": "python",
   "pygments_lexer": "ipython3",
   "version": "3.9.7"
  }
 },
 "nbformat": 4,
 "nbformat_minor": 5
}
